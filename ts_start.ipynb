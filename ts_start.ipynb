{
 "cells": [
  {
   "cell_type": "code",
   "execution_count": 6,
   "metadata": {},
   "outputs": [],
   "source": [
    "# installation of cuda and cudnn for GPUs (optional)"
   ]
  },
  {
   "cell_type": "code",
   "execution_count": 7,
   "metadata": {},
   "outputs": [],
   "source": [
    "# Check the compatibility of :\n",
    "# tensorflow-gpu version : python version : Compiler : Build tools : cuDNN : CUDA\n",
    "# https://www.tensorflow.org/install/source_windows\n",
    "\n",
    "# Once decided which tensorflow-gpu version : python version : Compiler : Build tools : cuDNN : CUDA \n",
    "# we will be using, we will start installing or linking them one-by one\n",
    "\n",
    "# Create new enviroment with suitable python runtime version\n",
    "\n",
    "# We should have GPU compatible system/machine\n",
    "# I have NVIDIA Drivers pre-built in my windows laptop\n",
    "# If NVIDIA Drivers are not there then we may need to install or something I am not sure.\n",
    "\n",
    "# We have to create an account with NVIDIA\n",
    "\n",
    "# Once you feel that your laptop is ready to deal with GPUs after having drivers all set\n",
    "# follow the below steps\n",
    "# Download the CUDA toolkit of appropriate version : https://developer.nvidia.com/cuda-11.0-download-archive\n",
    "# Chose the local version from the provided 2 options : network , local\n",
    "# Start the installation of cuda toolkit\n",
    "# Environmental variables will be automatically set up in this case\n",
    "# We can check if they already added as environmetal variables or not\n",
    "# Also v11.0/bin and v11.0/libnvvp should be added by default\n",
    "\n",
    "# Then we move on to download the approapriate version of CuDNN from : https://developer.nvidia.com/rdp/cudnn-archive\n",
    "# After this, we extract the cudnn downloaded folder and move the extracted folder inside the program files in :C/ division of the disk\n",
    "# After copying thr extracted cudnn folder, we move inside it and find the cuda folder. We go inside the cuda folder and find folders like bin, include and x-64\n",
    "# We add the path of these folders as an environmental variables inside the system environmental path\n",
    "\n",
    "# We have to login with google for microsoft account\n",
    "\n",
    "# Now we deal with the visual studio community 2017. I don't know if 2017 is necessary or we have freedom to choose other visual studio community version\n",
    "# From here : https://visualstudio.microsoft.com/vs/older-downloads/\n",
    "# We select 2017 and proceed to download\n",
    "# Once visual studio community is downloaded we run it\n",
    "# We install all the components associated with C++ (I don't know why)\n",
    "# It will take a time to install\n",
    "# We don't have to do environmetal variable stuffs with visual studio community, may be they are added by default or they need not to be added. I am not sure\n",
    "\n",
    "# Now in the environment which we have created,\n",
    "# we install jupyter notebook\n",
    "# We install tensorflow-gpu so that tensorflow comaptible with GPU will be installed\n",
    "\n",
    "# Now we have to restart or PC (don;t know why. If we don't restart then GPU won't be accessed literally)\n",
    "\n",
    "# After restarting the PC, we can run the following code and ensure that GPU has be accessed\n"
   ]
  },
  {
   "cell_type": "code",
   "execution_count": 14,
   "metadata": {},
   "outputs": [],
   "source": [
    "# some youtube links GPU set up with NVIDIA, CUDA, CUDNN, TENSORFLOW:\n",
    "# https://www.youtube.com/watch?v=g0tgElCTh-8&list=PLZoTAELRMXVNvTfHyJxPRcQkpV8ubBwHo&index=2\n",
    "# https://www.youtube.com/watch?v=StH5YNrY0mE&t=773s\n",
    "# https://www.youtube.com/watch?v=hHWkvEcDBO0"
   ]
  },
  {
   "cell_type": "code",
   "execution_count": 1,
   "metadata": {},
   "outputs": [
    {
     "name": "stdout",
     "output_type": "stream",
     "text": [
      "Name                            \n",
      "\n",
      "Intel(R) Iris(R) Plus Graphics  \n",
      "\n",
      "NVIDIA GeForce MX330            \n",
      "\n",
      "\n",
      "\n"
     ]
    }
   ],
   "source": [
    "# graphic cards information\n",
    "!wmic path win32_VideoController get name"
   ]
  },
  {
   "cell_type": "code",
   "execution_count": 8,
   "metadata": {},
   "outputs": [],
   "source": [
    "# pip3 install tensorflow-gpu --user\n",
    "import tensorflow as tf"
   ]
  },
  {
   "cell_type": "code",
   "execution_count": 9,
   "metadata": {},
   "outputs": [
    {
     "data": {
      "text/plain": [
       "True"
      ]
     },
     "execution_count": 9,
     "metadata": {},
     "output_type": "execute_result"
    }
   ],
   "source": [
    "tf.test.is_built_with_cuda()"
   ]
  },
  {
   "cell_type": "code",
   "execution_count": 10,
   "metadata": {},
   "outputs": [
    {
     "data": {
      "text/plain": [
       "'2.4.1'"
      ]
     },
     "execution_count": 10,
     "metadata": {},
     "output_type": "execute_result"
    }
   ],
   "source": [
    "tf.__version__"
   ]
  },
  {
   "cell_type": "code",
   "execution_count": 11,
   "metadata": {},
   "outputs": [
    {
     "name": "stdout",
     "output_type": "stream",
     "text": [
      "WARNING:tensorflow:From <ipython-input-11-254d07fc0d08>:3: is_gpu_available (from tensorflow.python.framework.test_util) is deprecated and will be removed in a future version.\n",
      "Instructions for updating:\n",
      "Use `tf.config.list_physical_devices('GPU')` instead.\n"
     ]
    },
    {
     "data": {
      "text/plain": [
       "True"
      ]
     },
     "execution_count": 11,
     "metadata": {},
     "output_type": "execute_result"
    }
   ],
   "source": [
    "# To know whether the GPU is enabled or not\n",
    "tf.test.is_gpu_available(\n",
    "    cuda_only=False, min_cuda_compute_capability=None\n",
    ")"
   ]
  },
  {
   "cell_type": "code",
   "execution_count": 12,
   "metadata": {},
   "outputs": [
    {
     "name": "stdout",
     "output_type": "stream",
     "text": [
      "Default GPU Device: /device:GPU:0\n"
     ]
    }
   ],
   "source": [
    "if tf.test.gpu_device_name():\n",
    "    print('Default GPU Device: {}'.format(tf.test.gpu_device_name()))\n",
    "else:\n",
    "    print(\"Please install GPU version of TF\")"
   ]
  },
  {
   "cell_type": "code",
   "execution_count": 13,
   "metadata": {},
   "outputs": [
    {
     "data": {
      "text/plain": [
       "[PhysicalDevice(name='/physical_device:GPU:0', device_type='GPU')]"
      ]
     },
     "execution_count": 13,
     "metadata": {},
     "output_type": "execute_result"
    }
   ],
   "source": [
    "# To get the list of available GPUs\n",
    "tf.config.list_physical_devices('GPU')"
   ]
  },
  {
   "cell_type": "code",
   "execution_count": 14,
   "metadata": {},
   "outputs": [
    {
     "name": "stdout",
     "output_type": "stream",
     "text": [
      "Mon Apr 05 04:56:38 2021       \n",
      "+-----------------------------------------------------------------------------+\n",
      "| NVIDIA-SMI 451.67       Driver Version: 451.67       CUDA Version: 11.0     |\n",
      "|-------------------------------+----------------------+----------------------+\n",
      "| GPU  Name            TCC/WDDM | Bus-Id        Disp.A | Volatile Uncorr. ECC |\n",
      "| Fan  Temp  Perf  Pwr:Usage/Cap|         Memory-Usage | GPU-Util  Compute M. |\n",
      "|===============================+======================+======================|\n",
      "|   0  GeForce MX330      WDDM  | 00000000:01:00.0 Off |                  N/A |\n",
      "| N/A   53C    P0    N/A /  N/A |   1631MiB /  2048MiB |      0%      Default |\n",
      "+-------------------------------+----------------------+----------------------+\n",
      "                                                                               \n",
      "+-----------------------------------------------------------------------------+\n",
      "| Processes:                                                                  |\n",
      "|  GPU   GI   CI        PID   Type   Process name                  GPU Memory |\n",
      "|        ID   ID                                                   Usage      |\n",
      "|=============================================================================|\n",
      "|    0   N/A  N/A      4552      C   ...v_py37\\Scripts\\python.exe    N/A      |\n",
      "|    0   N/A  N/A      8616      C   ...v_py37\\Scripts\\python.exe    N/A      |\n",
      "+-----------------------------------------------------------------------------+\n"
     ]
    }
   ],
   "source": [
    "!nvidia-smi"
   ]
  },
  {
   "cell_type": "code",
   "execution_count": null,
   "metadata": {},
   "outputs": [],
   "source": []
  },
  {
   "cell_type": "code",
   "execution_count": null,
   "metadata": {},
   "outputs": [],
   "source": []
  },
  {
   "cell_type": "code",
   "execution_count": null,
   "metadata": {},
   "outputs": [],
   "source": [
    "# OBJECT DETECTION API DOCUMENTATION\n",
    "# https://tensorflow-object-detection-api-tutorial.readthedocs.io/en/latest/install.html"
   ]
  },
  {
   "cell_type": "code",
   "execution_count": null,
   "metadata": {},
   "outputs": [],
   "source": []
  },
  {
   "cell_type": "code",
   "execution_count": 18,
   "metadata": {},
   "outputs": [],
   "source": [
    "# install the tensorflow model garden folder using git clone https://github.com/tensorflow/models.git\n",
    "# models folder will be cloned inside the working directory\n",
    "\n",
    "# https://www.youtube.com/watch?v=KWD20XBFYD4&t=257s"
   ]
  },
  {
   "cell_type": "code",
   "execution_count": null,
   "metadata": {},
   "outputs": [],
   "source": []
  },
  {
   "cell_type": "code",
   "execution_count": 7,
   "metadata": {},
   "outputs": [],
   "source": [
    "# Protobuf Installation/Compilation\n",
    "# The tensorflow Object Detection API uses Protobufs to configure model and training parameters. Before the framework can be used, the Protobuf libraries must be downloaded and compiled.\n",
    "\n",
    "# https://www.youtube.com/watch?v=Hzr1_bnhMsQ"
   ]
  },
  {
   "cell_type": "code",
   "execution_count": 3,
   "metadata": {},
   "outputs": [],
   "source": [
    "# https://github.com/protocolbuffers/protobuf/releases\n",
    "\n",
    "# download protobuf : git clone https://github.com/protocolbuffers/protobuf/releases/tag/v3.15.7\n",
    "# Create the 'Google Protobuf' folder in the ':C/Program files' division\n",
    "# Take the contents like bin, include, etc of the cloned folder into the Google Protobuf folder\n",
    "# Add the 'Google Protobuf/bin' location into the environmental variables"
   ]
  },
  {
   "cell_type": "code",
   "execution_count": 1,
   "metadata": {},
   "outputs": [],
   "source": [
    "# protobuf command in the models/research folder\n",
    "# \"C:\\Program Files\\Google Protobuf\\bin\\protoc.exe\" object_detection/protos/*.proto --python_out=.\n",
    "\n",
    "# After the execution of the above line, if we don't get error then our protoc or protobuf library has been compiled succesfully"
   ]
  },
  {
   "cell_type": "code",
   "execution_count": 2,
   "metadata": {},
   "outputs": [],
   "source": [
    "# protobuf doc : https://medium.com/@marklabinski/installing-tensorflow-object-detection-api-on-windows-10-7a4eb83e1e7b"
   ]
  },
  {
   "cell_type": "code",
   "execution_count": null,
   "metadata": {},
   "outputs": [],
   "source": []
  },
  {
   "cell_type": "code",
   "execution_count": 20,
   "metadata": {},
   "outputs": [],
   "source": [
    "# Now we deal with the COCO API which is one of the dependencies of the Object detection API\n",
    "# pip3 install cython\n",
    "# pip3 install git+https://github.com/philferriere/cocoapi.git#subdirectory=PythonAPI"
   ]
  },
  {
   "cell_type": "code",
   "execution_count": null,
   "metadata": {},
   "outputs": [],
   "source": []
  },
  {
   "cell_type": "code",
   "execution_count": null,
   "metadata": {},
   "outputs": [],
   "source": [
    "# For OBJECT DETECTION API\n",
    "\n",
    "# From within TensorFlow/models/research/\n",
    "# This works on Linux commandline :  cp object_detection/packages/tf2/setup.py .\n",
    "# python -m pip install .\n"
   ]
  },
  {
   "cell_type": "code",
   "execution_count": null,
   "metadata": {},
   "outputs": [],
   "source": []
  },
  {
   "cell_type": "code",
   "execution_count": null,
   "metadata": {},
   "outputs": [],
   "source": [
    "# Testing the installation\n",
    "\n",
    "# From within TensorFlow/models/research/\n",
    "# object_detection\\builders\\model_builder_tf2_test.py\n"
   ]
  },
  {
   "cell_type": "code",
   "execution_count": 3,
   "metadata": {},
   "outputs": [
    {
     "name": "stdout",
     "output_type": "stream",
     "text": [
      "Python 3.7.0\n"
     ]
    }
   ],
   "source": [
    "!python --version"
   ]
  },
  {
   "cell_type": "code",
   "execution_count": null,
   "metadata": {},
   "outputs": [],
   "source": []
  },
  {
   "cell_type": "code",
   "execution_count": null,
   "metadata": {},
   "outputs": [],
   "source": [
    "# ISSUES:\n",
    "# https://stackoverflow.com/questions/54778630/could-not-install-packages-due-to-an-environmenterror-errno-2-no-such-file-or\n",
    "# While installing tensorflow and object detection api, I was this issue (osError(2) : path long)\n",
    "# So I followed this steps\n",
    "# Go into Registry Editor\n",
    "# Then go at Computer\\HKEY_LOCAL_MACHINE\\SYSTEM\\CurrentControlSet\\Control\\FileSystem\n",
    "# Click on LongPathsEnabled and set value as 1\n",
    "\n",
    "# installation testing with : object_detection\\builders\\model_builder_tf2_test.py\n",
    "# does not work with python39 version in virtual environment : tensorflow_env\n",
    "# Hence I created python37 based virtual environment named tensorflow_env_py37 where it works"
   ]
  },
  {
   "cell_type": "code",
   "execution_count": null,
   "metadata": {},
   "outputs": [],
   "source": [
    "# Store the object_detection_camera.ipynb file in model/research/object_detection folder\n",
    "# Also we will save our test video .mp4 (no spaces in name)\n",
    "# We will store the model inside models/research/object_detection/data/model/sssd_mobilenet_v2_320x320_coco17_tpu-8"
   ]
  },
  {
   "cell_type": "code",
   "execution_count": null,
   "metadata": {},
   "outputs": [],
   "source": []
  },
  {
   "cell_type": "code",
   "execution_count": null,
   "metadata": {},
   "outputs": [],
   "source": [
    "# We can use different different models from this link :\n",
    "# https://github.com/tensorflow/models/blob/master/research/object_detection/g3doc/tf2_detection_zoo.md\n",
    "\n",
    "# copy the link of the model\n",
    "# paste it somewhere\n",
    "# get the model actual name\n",
    "# get some model name\n",
    "# And paste in the object_detection_camera.ipynb file\n",
    "\n",
    "# https://www.youtube.com/watch?v=K0eDKO13O_s"
   ]
  },
  {
   "cell_type": "code",
   "execution_count": null,
   "metadata": {},
   "outputs": [],
   "source": []
  },
  {
   "cell_type": "code",
   "execution_count": 7,
   "metadata": {},
   "outputs": [
    {
     "name": "stdout",
     "output_type": "stream",
     "text": [
      "https://www.youtube.com/watch?v=B2FyItES2WMhttps://www.youtube.com/watch?v=B2FyItES2WM\n"
     ]
    },
    {
     "data": {
      "text/plain": [
       "'C:\\\\Users\\\\Vishal Waghmare\\\\3D Objects\\\\VScode_codes\\\\GITHUB\\\\ML_components\\\\Tensorflow\\\\models/research/object_detection/LA traffic is worst in world for 6th straight year report says  ABC7.mp4'"
      ]
     },
     "execution_count": 7,
     "metadata": {},
     "output_type": "execute_result"
    }
   ],
   "source": [
    "from pytube import YouTube\n",
    "link = input(\"https://www.youtube.com/watch?v=B2FyItES2WM\")\n",
    "video = YouTube(link)\n",
    "stream = video.streams.get_highest_resolution()\n",
    "stream.download('models/research/object_detection/')"
   ]
  },
  {
   "cell_type": "code",
   "execution_count": null,
   "metadata": {},
   "outputs": [],
   "source": []
  },
  {
   "cell_type": "code",
   "execution_count": null,
   "metadata": {},
   "outputs": [],
   "source": [
    "# Reference for object_detection_camera.ipynb file code:\n",
    "# https://opencv-python-tutroals.readthedocs.io/en/latest/py_tutorials/py_gui/py_video_display/py_video_display.html\n"
   ]
  },
  {
   "cell_type": "code",
   "execution_count": null,
   "metadata": {},
   "outputs": [],
   "source": []
  }
 ],
 "metadata": {
  "kernelspec": {
   "display_name": "Python 3",
   "language": "python",
   "name": "python3"
  },
  "language_info": {
   "codemirror_mode": {
    "name": "ipython",
    "version": 3
   },
   "file_extension": ".py",
   "mimetype": "text/x-python",
   "name": "python",
   "nbconvert_exporter": "python",
   "pygments_lexer": "ipython3",
   "version": "3.7.0"
  }
 },
 "nbformat": 4,
 "nbformat_minor": 2
}
